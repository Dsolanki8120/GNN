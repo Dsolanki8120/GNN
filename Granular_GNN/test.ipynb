

import sys
import numpy as np
import pandas as pd
import os
import utils_np
import modules as models
import utils_tf
import graphs
import blocks 


CURRENT_DIR = os.getcwd()
DATA_PATH = os.path.join(CURRENT_DIR, "csv data files for 20 stages")
TIMESTEPS = 21  # t = 0 to 20
print("Notebook started")


def load_targets(t):
    # filepath: /home/sdeepak/GNN/graph_nets/Granular_GNN/test.ipynb
    # Reads the NPMNCF file for timestep t and returns a [num_nodes, 1] array
    fname = os.path.join(DATA_PATH, f"{t}_ball_NPMNCF.tab")
    df = pd.read_csv(fname, delim_whitespace=True, header=None, skiprows=2, names=["ball_id", "npmncf"])
    df.sort_values("ball_id", inplace=True)  # Ensure order matches node feature construction
    return df["npmncf"].values.reshape(-1, 1)



def load_scalar_feat(name, t):
    # For files like 0_ball_rad.tab, which are space-separated and have 2 header lines
    print(f"load_scalar_feat called for {name}, t={t}")
    return pd.read_csv(
        f"{DATA_PATH}/{t}_{name}.tab",
        header=None,
        names=["ball_id", name],
        delim_whitespace=True,
        skiprows=2
    )

def load_all_node_data(t):
    
    print(f"load_all_node_data called for t={t}")  # Add this
    df = load_scalar_feat("ball_rad", t)
    df = df.merge(load_scalar_feat("ball_cn", t), on="ball_id")
    for name in ["ball_disp_x", "ball_disp_y", "ball_disp_z",
                 "ball_pos_x", "ball_pos_y", "ball_pos_z"]:
        df = df.merge(load_scalar_feat(name, t), on="ball_id")
    df.sort_values("ball_id", inplace=True)
    return df

def load_edges(t, id_to_idx):
    e1 = pd.read_csv(f"{DATA_PATH}/{t}_contact_end1.tab", delim_whitespace=True, header=None, skiprows=2)
    e2 = pd.read_csv(f"{DATA_PATH}/{t}_contact_end2.tab", delim_whitespace=True, header=None, skiprows=2)
    
    # Use the first column only
    e1_ids = e1.iloc[:, 1].astype(int)
    e2_ids = e2.iloc[:, 1].astype(int)
    # Only keep edges where both endpoints exist in id_to_idx
    valid_edges = []
    for a, b in zip(e1_ids, e2_ids):
        if a in id_to_idx and b in id_to_idx:
            valid_edges.append((id_to_idx[a], id_to_idx[b]))
    return set(valid_edges)

def compute_displacement_features(pos, disp, i, j, max_r):
    rel_pos = pos[i] - pos[j]
    rel_disp = disp[i] - disp[j]

    if np.linalg.norm(rel_pos) < 1e-6:
        return [0.0, 0.0]

    contact_dir = rel_pos / np.linalg.norm(rel_pos)
    disp_along = np.dot(rel_disp, contact_dir)
    disp_perp = np.linalg.norm(rel_disp - disp_along * contact_dir)

    return [disp_along / max_r, disp_perp / max_r]

def create_all_graphs():
    print("create_all_graphs called")

    graphs = []

    node_data_0 = load_all_node_data(0)
    # Ensure IDs are int for consistent mapping
    # Maps each ball_id to its row index in the DataFrame.
    id_to_idx = {int(bid): i for i, bid in enumerate(node_data_0["ball_id"])}
    # Find Maximum Radius
    max_r = node_data_0["ball_rad"].max()


    #print("First 10 node IDs:", list(id_to_idx.keys())[:10])

    ### Graph 0 ###  
    print("Building Graph 0...")

# Build Node Features
    nodes_0 = np.stack([
    node_data_0["ball_rad"] / max_r,
    node_data_0["ball_cn"]
    ], axis=1).astype(np.float32)

# Loads all edges for t=0, using the mapping to ensure both endpoints exist.
    edges_0 = load_edges(0, id_to_idx)
    senders, receivers = zip(*edges_0) if edges_0 else ([], [])

# Get positions and displacements for t=0
    pos_0 = node_data_0[["ball_pos_x", "ball_pos_y", "ball_pos_z"]].values
    disp_0 = node_data_0[["ball_disp_x", "ball_disp_y", "ball_disp_z"]].values

# Edge Features: status=0.0, displacement features computed
    edge_features = []
    for (i, j) in edges_0:
       status = 0.0
       disp_feat = compute_displacement_features(pos_0, disp_0, i, j, max_r)
       edge_features.append([status] + disp_feat)

# Graph Dictionary
    graph_0 = {
    "globals": np.zeros([1], dtype=np.float32),
    "nodes": nodes_0,
    "edges": np.array(edge_features, dtype=np.float32),
    "senders": np.array(senders, dtype=np.int32),
    "receivers": np.array(receivers, dtype=np.int32)
}
    graphs.append(graph_0)

      # --- Graphs 1 to 20 ---
    for t in range(1, TIMESTEPS):
        print(f"Building Graph {t}...")
        node_data_t = load_all_node_data(t)
        disp_t = node_data_t[["ball_disp_x", "ball_disp_y", "ball_disp_z"]].values
        pos_t = node_data_t[["ball_pos_x", "ball_pos_y", "ball_pos_z"]].values

        nodes = np.stack([
            node_data_t["ball_rad"] / max_r,
            node_data_t["ball_cn"]
        ], axis=1).astype(np.float32)

        edges_prev = load_edges(t-1, id_to_idx)
        edges_curr = load_edges(t, id_to_idx)
        all_edges = list(edges_prev.union(edges_curr))

        edge_features = []
        for (i, j) in all_edges:
            # Contact evolution status
            if (i, j) in edges_prev and (i, j) in edges_curr:
                status = 0.0
            elif (i, j) in edges_prev:
                status = -1.0
            else:
                status = 1.0
            disp_feat = compute_displacement_features(pos_t, disp_t, i, j, max_r)
            edge_features.append([status] + disp_feat)

        senders, receivers = zip(*all_edges) if all_edges else ([], [])
        graph = {
            "globals": np.zeros([1], dtype=np.float32),
            "nodes": nodes,
            "edges": np.array(edge_features, dtype=np.float32),
            "senders": np.array(senders, dtype=np.int32),
            "receivers": np.array(receivers, dtype=np.int32)
        }
        graphs.append(graph)
    return graphs

    


    

graphs = create_all_graphs()
